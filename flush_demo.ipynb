{
 "cells": [
  {
   "cell_type": "code",
   "execution_count": null,
   "id": "initial_id",
   "metadata": {
    "collapsed": true
   },
   "outputs": [],
   "source": [
    ""
   ]
  },
  {
   "metadata": {
    "ExecuteTime": {
     "end_time": "2024-10-20T21:51:45.405208Z",
     "start_time": "2024-10-20T21:51:43.396065Z"
    }
   },
   "cell_type": "code",
   "source": [
    "import time\n",
    "\n",
    "# Flush is True\n",
    "print(\"Hello\", end=\"\", flush=True)  # Immediately flushes the buffer, so \"Hello\" appears instantly\n",
    "time.sleep(2)  # Wait for 2 seconds\n",
    "print(\" World\")  # Output: \"Hello\" appears immediately, and after 2 seconds, \" World\" is printed\n"
   ],
   "id": "3b28b2b3e06eb2a1",
   "outputs": [
    {
     "name": "stdout",
     "output_type": "stream",
     "text": [
      "Hello World\n"
     ]
    }
   ],
   "execution_count": 3
  },
  {
   "metadata": {
    "ExecuteTime": {
     "end_time": "2024-11-04T02:38:44.321022Z",
     "start_time": "2024-11-04T02:38:39.306059Z"
    }
   },
   "cell_type": "code",
   "source": [
    "import time\n",
    "\n",
    "# Simulating a real-time progress bar\n",
    "for i in range(5):\n",
    "    print(f\"Progress: {i+1}/5\", end=\"\\r\", flush=True)\n",
    "    time.sleep(1)\n"
   ],
   "id": "48394992c9884edb",
   "outputs": [
    {
     "name": "stdout",
     "output_type": "stream",
     "text": [
      "Progress: 5/5\r"
     ]
    }
   ],
   "execution_count": 3
  },
  {
   "metadata": {
    "ExecuteTime": {
     "end_time": "2024-11-04T02:38:44.777262Z",
     "start_time": "2024-11-04T02:38:44.353962Z"
    }
   },
   "cell_type": "code",
   "source": [
    "import numpy as np\n",
    "\n",
    "A = np.random.normal(25.0, 5.0, 10)\n",
    "print(A)\n",
    "np.sum(A/np.size(A))"
   ],
   "id": "14e187adf9616e0d",
   "outputs": [
    {
     "name": "stdout",
     "output_type": "stream",
     "text": [
      "[23.79505964 22.80697782 17.23994038 30.87004272 21.8946223  30.02251485\n",
      " 23.0988558  35.7517538  25.20411485 14.3721841 ]\n"
     ]
    },
    {
     "data": {
      "text/plain": [
       "24.505606627034634"
      ]
     },
     "execution_count": 4,
     "metadata": {},
     "output_type": "execute_result"
    }
   ],
   "execution_count": 4
  },
  {
   "metadata": {
    "ExecuteTime": {
     "end_time": "2024-10-21T00:43:43.399846Z",
     "start_time": "2024-10-21T00:43:43.395448Z"
    }
   },
   "cell_type": "code",
   "source": [
    "import numpy as np\n",
    "\n",
    "# Check if numpy is an object\n",
    "print(type(np))  # Output: <class 'module'>\n",
    "print(np)"
   ],
   "id": "3fe31dcd71f27133",
   "outputs": [
    {
     "name": "stdout",
     "output_type": "stream",
     "text": [
      "<class 'module'>\n",
      "<module 'numpy' from 'C:\\\\Users\\\\ajuth\\\\anaconda3\\\\Lib\\\\site-packages\\\\numpy\\\\__init__.py'>\n"
     ]
    }
   ],
   "execution_count": 40
  },
  {
   "metadata": {
    "ExecuteTime": {
     "end_time": "2024-10-21T01:04:29.415206Z",
     "start_time": "2024-10-21T01:04:29.409765Z"
    }
   },
   "cell_type": "code",
   "source": [
    "\n",
    "#define a function and have the function print 'Hello'\n",
    "\n",
    "def greet():\n",
    "    return \"Hello\"\n",
    "    \n",
    "greeting = greet()\n",
    "print(greeting) "
   ],
   "id": "c18f780b2db48196",
   "outputs": [
    {
     "name": "stdout",
     "output_type": "stream",
     "text": [
      "Hello\n"
     ]
    }
   ],
   "execution_count": 45
  },
  {
   "metadata": {},
   "cell_type": "code",
   "outputs": [],
   "execution_count": null,
   "source": "",
   "id": "c4715c5fe4df15cc"
  }
 ],
 "metadata": {
  "kernelspec": {
   "display_name": "Python 3",
   "language": "python",
   "name": "python3"
  },
  "language_info": {
   "codemirror_mode": {
    "name": "ipython",
    "version": 2
   },
   "file_extension": ".py",
   "mimetype": "text/x-python",
   "name": "python",
   "nbconvert_exporter": "python",
   "pygments_lexer": "ipython2",
   "version": "2.7.6"
  }
 },
 "nbformat": 4,
 "nbformat_minor": 5
}
