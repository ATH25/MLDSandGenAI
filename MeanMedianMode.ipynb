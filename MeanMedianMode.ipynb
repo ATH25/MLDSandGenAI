{
 "cells": [
  {
   "cell_type": "markdown",
   "metadata": {},
   "source": [
    "# Mean, Median, Mode, and introducing NumPy"
   ]
  },
  {
   "cell_type": "markdown",
   "metadata": {},
   "source": [
    "## Mean vs. Median"
   ]
  },
  {
   "cell_type": "markdown",
   "metadata": {},
   "source": [
    "Let's create some fake income data, centered around 27,000 with a normal distribution and standard deviation of 15,000, with 10,000 data points. (We'll discuss those terms more later, if you're not familiar with them.)\n",
    "\n",
    "Then, compute the mean (average) - it should be close to 27,000:"
   ]
  },
  {
   "cell_type": "code",
   "metadata": {
    "ExecuteTime": {
     "end_time": "2024-12-02T00:13:24.544256Z",
     "start_time": "2024-12-02T00:13:24.531024Z"
    }
   },
   "source": [
    "import numpy as np\n",
    "\n",
    "incomes = np.random.normal(27000, 15000, 10000)\n",
    "np.mean(incomes)"
   ],
   "outputs": [
    {
     "data": {
      "text/plain": [
       "27054.434041706932"
      ]
     },
     "execution_count": 22,
     "metadata": {},
     "output_type": "execute_result"
    }
   ],
   "execution_count": 22
  },
  {
   "cell_type": "markdown",
   "metadata": {},
   "source": [
    "We can segment the income data into 50 buckets, and plot it as a histogram:"
   ]
  },
  {
   "cell_type": "code",
   "metadata": {
    "ExecuteTime": {
     "end_time": "2024-12-02T00:14:06.411594Z",
     "start_time": "2024-12-02T00:14:06.124524Z"
    }
   },
   "source": [
    "%matplotlib inline\n",
    "import matplotlib.pyplot as plt\n",
    "plt.hist(incomes, 50)\n",
    "plt.show()"
   ],
   "outputs": [
    {
     "data": {
      "text/plain": [
       "<Figure size 640x480 with 1 Axes>"
      ],
      "image/png": "[encoded data removed]"
     },
     "metadata": {},
     "output_type": "display_data"
    }
   ],
   "execution_count": 24
  },
  {
   "cell_type": "markdown",
   "metadata": {},
   "source": [
    "Now compute the median - since we have a nice, even distribution it too should be close to 27,000:"
   ]
  },
  {
   "cell_type": "code",
   "metadata": {
    "ExecuteTime": {
     "end_time": "2024-12-01T22:20:14.381483Z",
     "start_time": "2024-12-01T22:20:14.371700Z"
    }
   },
   "source": [
    "np.median(incomes)"
   ],
   "outputs": [
    {
     "data": {
      "text/plain": [
       "26886.487687463985"
      ]
     },
     "execution_count": 3,
     "metadata": {},
     "output_type": "execute_result"
    }
   ],
   "execution_count": 3
  },
  {
   "cell_type": "markdown",
   "metadata": {},
   "source": [
    "Now we'll add Jeff Bezos into the mix. Darn income inequality!"
   ]
  },
  {
   "cell_type": "code",
   "metadata": {
    "ExecuteTime": {
     "end_time": "2024-12-02T00:22:58.036868Z",
     "start_time": "2024-12-02T00:22:58.024210Z"
    }
   },
   "source": [
    "incomes = np.append(incomes, [1000000000])"
   ],
   "outputs": [],
   "execution_count": 25
  },
  {
   "cell_type": "markdown",
   "metadata": {},
   "source": [
    "The median won't change much, but the mean does:"
   ]
  },
  {
   "cell_type": "code",
   "metadata": {
    "ExecuteTime": {
     "end_time": "2024-12-02T00:23:11.515220Z",
     "start_time": "2024-12-02T00:23:11.502206Z"
    }
   },
   "source": [
    "np.median(incomes)"
   ],
   "outputs": [
    {
     "data": {
      "text/plain": [
       "27035.650084763496"
      ]
     },
     "execution_count": 27,
     "metadata": {},
     "output_type": "execute_result"
    }
   ],
   "execution_count": 27
  },
  {
   "cell_type": "code",
   "metadata": {
    "ExecuteTime": {
     "end_time": "2024-12-02T00:23:20.090495Z",
     "start_time": "2024-12-02T00:23:20.077573Z"
    }
   },
   "source": [
    "np.mean(incomes)"
   ],
   "outputs": [
    {
     "data": {
      "text/plain": [
       "127041.72986872007"
      ]
     },
     "execution_count": 29,
     "metadata": {},
     "output_type": "execute_result"
    }
   ],
   "execution_count": 29
  },
  {
   "metadata": {
    "ExecuteTime": {
     "end_time": "2024-12-02T00:24:05.943507Z",
     "start_time": "2024-12-02T00:24:05.484780Z"
    }
   },
   "cell_type": "code",
   "source": [
    "# You can see that the data is skewed here.\n",
    "# %matplotlib inline\n",
    "# import matplotlib.pyplot as plt\n",
    "plt.hist(incomes, 50)\n",
    "plt.show()"
   ],
   "outputs": [
    {
     "data": {
      "text/plain": [
       "<Figure size 640x480 with 1 Axes>"
      ],
      "image/png": "[encoded data removed]"
     },
     "metadata": {},
     "output_type": "display_data"
    }
   ],
   "execution_count": 30
  },
  {
   "cell_type": "markdown",
   "metadata": {},
   "source": [
    "## Mode"
   ]
  },
  {
   "cell_type": "markdown",
   "metadata": {},
   "source": [
    "Next, let's generate some fake age data for 500 people:"
   ]
  },
  {
   "cell_type": "code",
   "metadata": {
    "ExecuteTime": {
     "end_time": "2024-12-02T00:38:54.941519Z",
     "start_time": "2024-12-02T00:38:54.918007Z"
    }
   },
   "source": [
    "ages = np.random.randint(18, high=90, size=500)\n",
    "ages"
   ],
   "outputs": [
    {
     "data": {
      "text/plain": [
       "array([82, 63, 69, 67, 35, 44, 45, 32, 89, 61, 78, 57, 27, 48, 69, 28, 23,\n",
       "       89, 89, 26, 69, 75, 68, 25, 62, 26, 33, 62, 18, 58, 59, 62, 81, 60,\n",
       "       21, 64, 65, 41, 49, 53, 85, 89, 31, 72, 86, 78, 85, 83, 39, 27, 45,\n",
       "       69, 78, 74, 56, 81, 43, 25, 72, 75, 63, 38, 37, 27, 61, 75, 80, 22,\n",
       "       23, 67, 46, 67, 64, 43, 26, 55, 62, 69, 47, 83, 23, 54, 87, 71, 26,\n",
       "       37, 20, 55, 66, 38, 21, 39, 81, 45, 48, 62, 80, 43, 63, 69, 48, 25,\n",
       "       30, 38, 35, 33, 40, 51, 47, 62, 61, 20, 26, 44, 30, 50, 56, 30, 46,\n",
       "       20, 20, 18, 37, 74, 51, 35, 85, 19, 61, 84, 50, 85, 66, 73, 50, 75,\n",
       "       22, 23, 64, 76, 53, 89, 33, 47, 44, 38, 22, 76, 31, 50, 74, 35, 55,\n",
       "       21, 78, 66, 51, 62, 20, 26, 83, 89, 37, 53, 42, 84, 73, 40, 64, 64,\n",
       "       55, 78, 60, 70, 33, 71, 34, 71, 49, 65, 22, 77, 82, 54, 80, 52, 23,\n",
       "       66, 23, 41, 56, 51, 54, 34, 56, 61, 37, 81, 81, 36, 60, 46, 20, 48,\n",
       "       83, 37, 82, 42, 40, 61, 25, 68, 72, 40, 88, 61, 33, 50, 29, 35, 80,\n",
       "       86, 22, 37, 31, 20, 23, 57, 25, 76, 86, 77, 61, 67, 29, 55, 84, 61,\n",
       "       73, 34, 44, 24, 59, 36, 64, 25, 63, 52, 33, 56, 68, 87, 24, 83, 49,\n",
       "       33, 18, 77, 40, 48, 57, 88, 75, 44, 24, 35, 59, 19, 18, 86, 47, 72,\n",
       "       47, 48, 25, 73, 85, 84, 37, 42, 66, 47, 26, 28, 43, 68, 78, 52, 83,\n",
       "       83, 51, 29, 35, 26, 18, 22, 70, 25, 65, 21, 39, 61, 35, 22, 45, 61,\n",
       "       20, 47, 49, 38, 42, 72, 36, 28, 38, 56, 64, 50, 37, 26, 39, 82, 85,\n",
       "       62, 53, 48, 29, 69, 79, 64, 56, 34, 58, 38, 67, 71, 83, 72, 87, 68,\n",
       "       78, 52, 89, 82, 20, 79, 80, 27, 24, 60, 30, 39, 47, 71, 49, 77, 29,\n",
       "       55, 28, 53, 37, 70, 33, 56, 62, 63, 35, 73, 37, 40, 37, 57, 82, 86,\n",
       "       65, 75, 36, 61, 41, 87, 27, 43, 64, 37, 76, 85, 54, 61, 33, 47, 87,\n",
       "       85, 53, 29, 44, 55, 87, 70, 51, 65, 85, 21, 41, 59, 58, 56, 46, 26,\n",
       "       39, 70, 57, 74, 28, 55, 45, 25, 31, 46, 54, 20, 69, 42, 28, 24, 25,\n",
       "       70, 66, 57, 48, 43, 78, 50, 38, 30, 67, 46, 34, 43, 72, 30, 52, 21,\n",
       "       39, 23, 87, 86, 56, 54, 27, 57, 45, 49, 58, 89, 60, 50, 59, 36, 57,\n",
       "       89, 69, 67, 81, 86, 89, 28, 64, 55, 51, 45, 25, 80, 79, 45, 30, 66,\n",
       "       65, 78, 89, 57, 52, 46, 71, 45, 57, 30, 20, 81, 78, 48, 83, 63, 33,\n",
       "       76, 47, 32, 25, 61, 70, 27])"
      ]
     },
     "execution_count": 35,
     "metadata": {},
     "output_type": "execute_result"
    }
   ],
   "execution_count": 35
  },
  {
   "cell_type": "code",
   "metadata": {
    "ExecuteTime": {
     "end_time": "2024-12-02T00:38:56.995399Z",
     "start_time": "2024-12-02T00:38:56.981235Z"
    }
   },
   "source": [
    "from scipy import stats\n",
    "stats.mode(ages)"
   ],
   "outputs": [
    {
     "data": {
      "text/plain": [
       "ModeResult(mode=61, count=14)"
      ]
     },
     "execution_count": 36,
     "metadata": {},
     "output_type": "execute_result"
    }
   ],
   "execution_count": 36
  },
  {
   "cell_type": "code",
   "metadata": {
    "ExecuteTime": {
     "end_time": "2024-12-01T22:20:17.415005Z",
     "start_time": "2024-12-01T22:20:17.411382Z"
    }
   },
   "source": [],
   "outputs": [],
   "execution_count": null
  }
 ],
 "metadata": {
  "kernelspec": {
   "display_name": "Python 3",
   "language": "python",
   "name": "python3"
  },
  "language_info": {
   "codemirror_mode": {
    "name": "ipython",
    "version": 3
   },
   "file_extension": ".py",
   "mimetype": "text/x-python",
   "name": "python",
   "nbconvert_exporter": "python",
   "pygments_lexer": "ipython3",
   "version": "3.7.3"
  }
 },
 "nbformat": 4,
 "nbformat_minor": 1
}
