{
 "cells": [
  {
   "cell_type": "markdown",
   "metadata": {},
   "source": [
    "# Python Basics"
   ]
  },
  {
   "cell_type": "markdown",
   "metadata": {},
   "source": [
    "## Whitespace Is Important"
   ]
  },
  {
   "cell_type": "code",
   "metadata": {
    "ExecuteTime": {
     "end_time": "2024-11-17T17:44:38.372808Z",
     "start_time": "2024-11-17T17:44:38.157350Z"
    }
   },
   "source": [
    "from pywin.mfc.dialog import PrintDialog\n",
    "\n",
    "listOfNumbers = [1, 2, 3, 4, 5, 6, 7]\n",
    "\n",
    "for number in listOfNumbers:\n",
    "    #print(number)\n",
    "    if (number % 2 == 0):\n",
    "        print(number, \"is even\")\n",
    "    else:\n",
    "        print(number, \"is odd\")\n",
    "\n",
    "print (\"All done.\")\n",
    "\n",
    "#define a list of arrays 1,2,3,4 and loop through it. Then print all array values\n",
    "\n"
   ],
   "outputs": [
    {
     "name": "stdout",
     "output_type": "stream",
     "text": [
      "1 is odd\n",
      "2 is even\n",
      "3 is odd\n",
      "4 is even\n",
      "5 is odd\n",
      "6 is even\n",
      "7 is odd\n",
      "All done.\n"
     ]
    }
   ],
   "execution_count": 1
  },
  {
   "cell_type": "markdown",
   "metadata": {},
   "source": [
    "## Importing Modules"
   ]
  },
  {
   "cell_type": "code",
   "metadata": {
    "ExecuteTime": {
     "end_time": "2024-11-17T17:44:39.065083Z",
     "start_time": "2024-11-17T17:44:38.851374Z"
    }
   },
   "source": [
    "import numpy as np\n",
    "\n",
    "A = np.random.normal(25.0, 5.0, 10)\n",
    "print (A)"
   ],
   "outputs": [
    {
     "name": "stdout",
     "output_type": "stream",
     "text": [
      "[22.55766445 31.69515357 17.76753035 21.84056469 20.82774363 17.19354824\n",
      " 23.43996829 26.95786906 25.62558001 19.67136431]\n"
     ]
    }
   ],
   "execution_count": 2
  },
  {
   "cell_type": "markdown",
   "metadata": {},
   "source": [
    "## Lists"
   ]
  },
  {
   "cell_type": "code",
   "metadata": {
    "ExecuteTime": {
     "end_time": "2024-11-17T17:44:39.110883Z",
     "start_time": "2024-11-17T17:44:39.100792Z"
    }
   },
   "source": [
    "x = [1, 2, 3, 4, 5, 6]\n",
    "print(len(x))\n",
    "print(x)\n",
    "x.reverse()\n",
    "print(x)\n",
    "x.reverse()\n",
    "print(x)"
   ],
   "outputs": [
    {
     "name": "stdout",
     "output_type": "stream",
     "text": [
      "6\n",
      "[1, 2, 3, 4, 5, 6]\n",
      "[6, 5, 4, 3, 2, 1]\n",
      "[1, 2, 3, 4, 5, 6]\n"
     ]
    }
   ],
   "execution_count": 3
  },
  {
   "metadata": {
    "ExecuteTime": {
     "end_time": "2024-11-17T17:44:39.200716Z",
     "start_time": "2024-11-17T17:44:39.191904Z"
    }
   },
   "cell_type": "code",
   "source": [
    "print(x)\n",
    "print(x[::-1])\n",
    "print(x)"
   ],
   "outputs": [
    {
     "name": "stdout",
     "output_type": "stream",
     "text": [
      "[1, 2, 3, 4, 5, 6]\n",
      "[6, 5, 4, 3, 2, 1]\n",
      "[1, 2, 3, 4, 5, 6]\n"
     ]
    }
   ],
   "execution_count": 4
  },
  {
   "cell_type": "code",
   "metadata": {
    "ExecuteTime": {
     "end_time": "2024-11-17T17:44:39.352433Z",
     "start_time": "2024-11-17T17:44:39.338128Z"
    }
   },
   "source": [
    "#first 3 elements of the list\n",
    "x[:3]"
   ],
   "outputs": [
    {
     "data": {
      "text/plain": [
       "[1, 2, 3]"
      ]
     },
     "execution_count": 5,
     "metadata": {},
     "output_type": "execute_result"
    }
   ],
   "execution_count": 5
  },
  {
   "cell_type": "code",
   "metadata": {
    "ExecuteTime": {
     "end_time": "2024-11-17T17:44:39.543315Z",
     "start_time": "2024-11-17T17:44:39.469157Z"
    }
   },
   "source": [
    "print(x)\n",
    "#after the 3rd element \n",
    "x[3:]"
   ],
   "outputs": [
    {
     "name": "stdout",
     "output_type": "stream",
     "text": [
      "[1, 2, 3, 4, 5, 6]\n"
     ]
    },
    {
     "data": {
      "text/plain": [
       "[4, 5, 6]"
      ]
     },
     "execution_count": 6,
     "metadata": {},
     "output_type": "execute_result"
    }
   ],
   "execution_count": 6
  },
  {
   "cell_type": "code",
   "metadata": {
    "ExecuteTime": {
     "end_time": "2024-11-17T17:44:39.703516Z",
     "start_time": "2024-11-17T17:44:39.581803Z"
    }
   },
   "source": [
    "x[-2:]"
   ],
   "outputs": [
    {
     "data": {
      "text/plain": [
       "[5, 6]"
      ]
     },
     "execution_count": 7,
     "metadata": {},
     "output_type": "execute_result"
    }
   ],
   "execution_count": 7
  },
  {
   "metadata": {
    "ExecuteTime": {
     "end_time": "2024-11-17T17:44:39.873160Z",
     "start_time": "2024-11-17T17:44:39.780492Z"
    }
   },
   "cell_type": "code",
   "source": "x[:-1]",
   "outputs": [
    {
     "data": {
      "text/plain": [
       "[1, 2, 3, 4, 5]"
      ]
     },
     "execution_count": 8,
     "metadata": {},
     "output_type": "execute_result"
    }
   ],
   "execution_count": 8
  },
  {
   "cell_type": "code",
   "metadata": {
    "ExecuteTime": {
     "end_time": "2024-11-17T17:44:40.045364Z",
     "start_time": "2024-11-17T17:44:39.933094Z"
    }
   },
   "source": [
    "x.extend([7,8])\n",
    "x"
   ],
   "outputs": [
    {
     "data": {
      "text/plain": [
       "[1, 2, 3, 4, 5, 6, 7, 8]"
      ]
     },
     "execution_count": 9,
     "metadata": {},
     "output_type": "execute_result"
    }
   ],
   "execution_count": 9
  },
  {
   "cell_type": "code",
   "metadata": {
    "ExecuteTime": {
     "end_time": "2024-11-17T17:44:40.198487Z",
     "start_time": "2024-11-17T17:44:40.179542Z"
    }
   },
   "source": [
    "x.append(9)\n",
    "print(x)\n",
    "x.extend([10])\n",
    "print(x)"
   ],
   "outputs": [
    {
     "name": "stdout",
     "output_type": "stream",
     "text": [
      "[1, 2, 3, 4, 5, 6, 7, 8, 9]\n",
      "[1, 2, 3, 4, 5, 6, 7, 8, 9, 10]\n"
     ]
    }
   ],
   "execution_count": 10
  },
  {
   "cell_type": "code",
   "metadata": {
    "ExecuteTime": {
     "end_time": "2024-11-17T17:44:40.301691Z",
     "start_time": "2024-11-17T17:44:40.288367Z"
    }
   },
   "source": [
    "y = [10, 11, 12]\n",
    "listOfLists = [x, y]\n",
    "print(listOfLists)\n",
    "listOfLists[1]"
   ],
   "outputs": [
    {
     "name": "stdout",
     "output_type": "stream",
     "text": [
      "[[1, 2, 3, 4, 5, 6, 7, 8, 9, 10], [10, 11, 12]]\n"
     ]
    },
    {
     "data": {
      "text/plain": [
       "[10, 11, 12]"
      ]
     },
     "execution_count": 11,
     "metadata": {},
     "output_type": "execute_result"
    }
   ],
   "execution_count": 11
  },
  {
   "metadata": {
    "ExecuteTime": {
     "end_time": "2024-11-17T17:44:40.373416Z",
     "start_time": "2024-11-17T17:44:40.358687Z"
    }
   },
   "cell_type": "code",
   "source": [
    "print(x)\n",
    "x[::2]\n",
    "x.sort()\n",
    "print(x)\n",
    "x.count(9)"
   ],
   "outputs": [
    {
     "name": "stdout",
     "output_type": "stream",
     "text": [
      "[1, 2, 3, 4, 5, 6, 7, 8, 9, 10]\n",
      "[1, 2, 3, 4, 5, 6, 7, 8, 9, 10]\n"
     ]
    },
    {
     "data": {
      "text/plain": [
       "1"
      ]
     },
     "execution_count": 12,
     "metadata": {},
     "output_type": "execute_result"
    }
   ],
   "execution_count": 12
  },
  {
   "cell_type": "code",
   "metadata": {
    "ExecuteTime": {
     "end_time": "2024-11-17T17:44:40.489316Z",
     "start_time": "2024-11-17T17:44:40.478491Z"
    }
   },
   "source": [
    "y[1]"
   ],
   "outputs": [
    {
     "data": {
      "text/plain": [
       "11"
      ]
     },
     "execution_count": 13,
     "metadata": {},
     "output_type": "execute_result"
    }
   ],
   "execution_count": 13
  },
  {
   "cell_type": "code",
   "metadata": {
    "ExecuteTime": {
     "end_time": "2024-11-17T17:44:40.579846Z",
     "start_time": "2024-11-17T17:44:40.565840Z"
    }
   },
   "source": [
    "z = [3, 2, 1]\n",
    "z.sort()\n",
    "print(z)\n",
    "z.sort(reverse=True)\n",
    "print(z)\n",
    "z.reverse()\n",
    "z"
   ],
   "outputs": [
    {
     "name": "stdout",
     "output_type": "stream",
     "text": [
      "[1, 2, 3]\n",
      "[3, 2, 1]\n"
     ]
    },
    {
     "data": {
      "text/plain": [
       "[1, 2, 3]"
      ]
     },
     "execution_count": 14,
     "metadata": {},
     "output_type": "execute_result"
    }
   ],
   "execution_count": 14
  },
  {
   "cell_type": "code",
   "metadata": {
    "ExecuteTime": {
     "end_time": "2024-11-17T17:44:40.658751Z",
     "start_time": "2024-11-17T17:44:40.648210Z"
    }
   },
   "source": [
    "z.reverse()\n",
    "z"
   ],
   "outputs": [
    {
     "data": {
      "text/plain": [
       "[3, 2, 1]"
      ]
     },
     "execution_count": 15,
     "metadata": {},
     "output_type": "execute_result"
    }
   ],
   "execution_count": 15
  },
  {
   "cell_type": "markdown",
   "metadata": {},
   "source": [
    "## Tuples"
   ]
  },
  {
   "cell_type": "code",
   "metadata": {
    "ExecuteTime": {
     "end_time": "2024-11-17T17:44:40.740603Z",
     "start_time": "2024-11-17T17:44:40.729955Z"
    }
   },
   "source": [
    "#Tuples are just immutable lists. Use () instead of []\n",
    "x = (1, 2, 3)\n",
    "len(x)"
   ],
   "outputs": [
    {
     "data": {
      "text/plain": [
       "3"
      ]
     },
     "execution_count": 16,
     "metadata": {},
     "output_type": "execute_result"
    }
   ],
   "execution_count": 16
  },
  {
   "cell_type": "code",
   "metadata": {
    "ExecuteTime": {
     "end_time": "2024-11-17T17:44:40.839422Z",
     "start_time": "2024-11-17T17:44:40.830046Z"
    }
   },
   "source": [
    "y = (4, 5, 6)\n",
    "y[2]"
   ],
   "outputs": [
    {
     "data": {
      "text/plain": [
       "6"
      ]
     },
     "execution_count": 17,
     "metadata": {},
     "output_type": "execute_result"
    }
   ],
   "execution_count": 17
  },
  {
   "cell_type": "code",
   "metadata": {
    "ExecuteTime": {
     "end_time": "2024-11-17T17:44:40.916630Z",
     "start_time": "2024-11-17T17:44:40.906384Z"
    }
   },
   "source": [
    "listOfTuples = [x, y]\n",
    "listOfTuples"
   ],
   "outputs": [
    {
     "data": {
      "text/plain": [
       "[(1, 2, 3), (4, 5, 6)]"
      ]
     },
     "execution_count": 18,
     "metadata": {},
     "output_type": "execute_result"
    }
   ],
   "execution_count": 18
  },
  {
   "cell_type": "code",
   "metadata": {
    "ExecuteTime": {
     "end_time": "2024-11-17T17:44:40.979271Z",
     "start_time": "2024-11-17T17:44:40.969835Z"
    }
   },
   "source": [
    "(age, income) = \"32,120000\".split(',')\n",
    "print(age)\n",
    "print(income)"
   ],
   "outputs": [
    {
     "name": "stdout",
     "output_type": "stream",
     "text": [
      "32\n",
      "120000\n"
     ]
    }
   ],
   "execution_count": 19
  },
  {
   "metadata": {},
   "cell_type": "markdown",
   "source": ""
  },
  {
   "metadata": {},
   "cell_type": "markdown",
   "source": ""
  },
  {
   "metadata": {
    "ExecuteTime": {
     "end_time": "2024-11-17T17:44:41.077385Z",
     "start_time": "2024-11-17T17:44:41.068910Z"
    }
   },
   "cell_type": "code",
   "source": [
    "[age1, income1] = \"15,10000\".split(',')\n",
    "print(age1)\n"
   ],
   "outputs": [
    {
     "name": "stdout",
     "output_type": "stream",
     "text": [
      "15\n"
     ]
    }
   ],
   "execution_count": 20
  },
  {
   "metadata": {},
   "cell_type": "markdown",
   "source": [
    "Explanation:\n",
    "\"15,10000\".split(','):\n",
    "\n",
    "The split(',') method is called on the string \"15,10000\".\n",
    "split(',') splits the string at each comma , and returns a list of substrings.\n",
    "In this case, it will return ['15', '10000'].\n",
    "List Unpacking:\n",
    "\n",
    "The code [age1, income1] = ['15', '10000'] assigns the elements of the list to the variables age1 and income1 by unpacking the list.\n",
    "age1 gets the first element of the list ('15'), and income1 gets the second element ('10000')."
   ]
  },
  {
   "metadata": {
    "ExecuteTime": {
     "end_time": "2024-11-17T17:44:41.169938Z",
     "start_time": "2024-11-17T17:44:41.164593Z"
    }
   },
   "cell_type": "code",
   "source": "",
   "outputs": [],
   "execution_count": null
  },
  {
   "metadata": {},
   "cell_type": "markdown",
   "source": ""
  },
  {
   "cell_type": "markdown",
   "metadata": {},
   "source": [
    "## Dictionaries"
   ]
  },
  {
   "cell_type": "code",
   "metadata": {
    "ExecuteTime": {
     "end_time": "2024-11-17T17:44:41.229313Z",
     "start_time": "2024-11-17T17:44:41.220458Z"
    }
   },
   "source": [
    "# Like a map or hash table in other languages\n",
    "captains = {}\n",
    "captains[\"Enterprise\"] = \"Kirk\"\n",
    "captains[\"Enterprise D\"] = \"Picard\"\n",
    "captains[\"Deep Space Nine\"] = \"Sisko\"\n",
    "captains[\"Voyager\"] = \"Janeway\"\n",
    "\n",
    "print(captains[\"Voyager\"])"
   ],
   "outputs": [
    {
     "name": "stdout",
     "output_type": "stream",
     "text": [
      "Janeway\n"
     ]
    }
   ],
   "execution_count": 21
  },
  {
   "cell_type": "code",
   "metadata": {
    "ExecuteTime": {
     "end_time": "2024-11-17T17:44:41.323201Z",
     "start_time": "2024-11-17T17:44:41.313538Z"
    }
   },
   "source": [
    "print(captains.get(\"Enterprise\"))"
   ],
   "outputs": [
    {
     "name": "stdout",
     "output_type": "stream",
     "text": [
      "Kirk\n"
     ]
    }
   ],
   "execution_count": 22
  },
  {
   "cell_type": "code",
   "metadata": {
    "ExecuteTime": {
     "end_time": "2024-11-17T17:44:41.422243Z",
     "start_time": "2024-11-17T17:44:41.412299Z"
    }
   },
   "source": [
    "print(captains.get(\"NX-01\"))"
   ],
   "outputs": [
    {
     "name": "stdout",
     "output_type": "stream",
     "text": [
      "None\n"
     ]
    }
   ],
   "execution_count": 23
  },
  {
   "metadata": {
    "ExecuteTime": {
     "end_time": "2024-11-17T17:44:41.508244Z",
     "start_time": "2024-11-17T17:44:41.502487Z"
    }
   },
   "cell_type": "code",
   "source": [
    "# iterate through captains\n",
    "for dic in captains: \n",
    "    print(dic)    "
   ],
   "outputs": [
    {
     "name": "stdout",
     "output_type": "stream",
     "text": [
      "Enterprise\n",
      "Enterprise D\n",
      "Deep Space Nine\n",
      "Voyager\n"
     ]
    }
   ],
   "execution_count": 24
  },
  {
   "cell_type": "code",
   "metadata": {
    "ExecuteTime": {
     "end_time": "2024-11-17T17:44:41.596045Z",
     "start_time": "2024-11-17T17:44:41.588603Z"
    }
   },
   "source": [
    "for ship in captains:\n",
    "    print(ship + \": \" + captains[ship])"
   ],
   "outputs": [
    {
     "name": "stdout",
     "output_type": "stream",
     "text": [
      "Enterprise: Kirk\n",
      "Enterprise D: Picard\n",
      "Deep Space Nine: Sisko\n",
      "Voyager: Janeway\n"
     ]
    }
   ],
   "execution_count": 25
  },
  {
   "cell_type": "markdown",
   "metadata": {},
   "source": [
    "## Functions"
   ]
  },
  {
   "cell_type": "code",
   "metadata": {
    "ExecuteTime": {
     "end_time": "2024-11-17T17:44:41.673383Z",
     "start_time": "2024-11-17T17:44:41.665002Z"
    }
   },
   "source": [
    "def SquareIt(x):\n",
    "    return x * x\n",
    "\n",
    "print(SquareIt(2))\n"
   ],
   "outputs": [
    {
     "name": "stdout",
     "output_type": "stream",
     "text": [
      "4\n"
     ]
    }
   ],
   "execution_count": 26
  },
  {
   "cell_type": "code",
   "metadata": {
    "ExecuteTime": {
     "end_time": "2024-11-17T17:44:41.766853Z",
     "start_time": "2024-11-17T17:44:41.758140Z"
    }
   },
   "source": [
    "#You can pass functions around as parameters\n",
    "def DoSomething(f, x):\n",
    "    return f(x)\n",
    "\n",
    "print(DoSomething(SquareIt, 3))"
   ],
   "outputs": [
    {
     "name": "stdout",
     "output_type": "stream",
     "text": [
      "9\n"
     ]
    }
   ],
   "execution_count": 27
  },
  {
   "cell_type": "code",
   "metadata": {
    "ExecuteTime": {
     "end_time": "2024-11-17T17:44:41.842712Z",
     "start_time": "2024-11-17T17:44:41.833618Z"
    }
   },
   "source": [
    "#Lambda functions let you inline simple functions\n",
    "print(DoSomething(lambda x: x * x * x, 3))"
   ],
   "outputs": [
    {
     "name": "stdout",
     "output_type": "stream",
     "text": [
      "27\n"
     ]
    }
   ],
   "execution_count": 28
  },
  {
   "metadata": {
    "ExecuteTime": {
     "end_time": "2024-11-17T17:44:41.897077Z",
     "start_time": "2024-11-17T17:44:41.889113Z"
    }
   },
   "cell_type": "code",
   "source": [
    "def test_function(function_name):\n",
    "    print(\"Testing function: \" + function_name)\n",
    "\n",
    "test_function(\"PrintDialog\")"
   ],
   "outputs": [
    {
     "name": "stdout",
     "output_type": "stream",
     "text": [
      "Testing function: PrintDialog\n"
     ]
    }
   ],
   "execution_count": 29
  },
  {
   "cell_type": "markdown",
   "metadata": {},
   "source": [
    "## Boolean Expressions"
   ]
  },
  {
   "cell_type": "code",
   "metadata": {
    "ExecuteTime": {
     "end_time": "2024-11-17T17:44:41.972638Z",
     "start_time": "2024-11-17T17:44:41.963332Z"
    }
   },
   "source": [
    "print(1 == 3)"
   ],
   "outputs": [
    {
     "name": "stdout",
     "output_type": "stream",
     "text": [
      "False\n"
     ]
    }
   ],
   "execution_count": 30
  },
  {
   "cell_type": "code",
   "metadata": {
    "ExecuteTime": {
     "end_time": "2024-11-17T17:44:42.103771Z",
     "start_time": "2024-11-17T17:44:42.093040Z"
    }
   },
   "source": [
    "print(True or False)"
   ],
   "outputs": [
    {
     "name": "stdout",
     "output_type": "stream",
     "text": [
      "True\n"
     ]
    }
   ],
   "execution_count": 31
  },
  {
   "cell_type": "code",
   "metadata": {
    "ExecuteTime": {
     "end_time": "2024-11-17T17:44:42.201154Z",
     "start_time": "2024-11-17T17:44:42.192284Z"
    }
   },
   "source": [
    "print(1 is 3)"
   ],
   "outputs": [
    {
     "name": "stdout",
     "output_type": "stream",
     "text": [
      "False\n"
     ]
    },
    {
     "name": "stderr",
     "output_type": "stream",
     "text": [
      "<>:1: SyntaxWarning: \"is\" with 'int' literal. Did you mean \"==\"?\n",
      "<>:1: SyntaxWarning: \"is\" with 'int' literal. Did you mean \"==\"?\n",
      "C:\\Users\\ajuth\\AppData\\Local\\Temp\\ipykernel_5168\\3742584581.py:1: SyntaxWarning: \"is\" with 'int' literal. Did you mean \"==\"?\n",
      "  print(1 is 3)\n"
     ]
    }
   ],
   "execution_count": 32
  },
  {
   "cell_type": "code",
   "metadata": {
    "ExecuteTime": {
     "end_time": "2024-11-17T17:44:42.307131Z",
     "start_time": "2024-11-17T17:44:42.298815Z"
    }
   },
   "source": [
    "if 1 is 3:\n",
    "    print(\"How did that happen?\")\n",
    "elif 1 > 3:\n",
    "    print(\"Yikes\")\n",
    "else:\n",
    "    print(\"All is well with the world\")"
   ],
   "outputs": [
    {
     "name": "stdout",
     "output_type": "stream",
     "text": [
      "All is well with the world\n"
     ]
    },
    {
     "name": "stderr",
     "output_type": "stream",
     "text": [
      "<>:1: SyntaxWarning: \"is\" with 'int' literal. Did you mean \"==\"?\n",
      "<>:1: SyntaxWarning: \"is\" with 'int' literal. Did you mean \"==\"?\n",
      "C:\\Users\\ajuth\\AppData\\Local\\Temp\\ipykernel_5168\\1599553278.py:1: SyntaxWarning: \"is\" with 'int' literal. Did you mean \"==\"?\n",
      "  if 1 is 3:\n"
     ]
    }
   ],
   "execution_count": 33
  },
  {
   "cell_type": "markdown",
   "metadata": {},
   "source": [
    "## Looping"
   ]
  },
  {
   "cell_type": "code",
   "metadata": {
    "ExecuteTime": {
     "end_time": "2024-11-17T17:44:42.386280Z",
     "start_time": "2024-11-17T17:44:42.376149Z"
    }
   },
   "source": [
    "for x in range(10):\n",
    "    print(x)"
   ],
   "outputs": [
    {
     "name": "stdout",
     "output_type": "stream",
     "text": [
      "0\n",
      "1\n",
      "2\n",
      "3\n",
      "4\n",
      "5\n",
      "6\n",
      "7\n",
      "8\n",
      "9\n"
     ]
    }
   ],
   "execution_count": 34
  },
  {
   "cell_type": "code",
   "metadata": {
    "ExecuteTime": {
     "end_time": "2024-11-17T17:44:42.495251Z",
     "start_time": "2024-11-17T17:44:42.488383Z"
    }
   },
   "source": [
    "for x in range(10):\n",
    "    if (x is 1):\n",
    "        continue\n",
    "    if (x > 5):\n",
    "        break\n",
    "    print(x)"
   ],
   "outputs": [
    {
     "name": "stdout",
     "output_type": "stream",
     "text": [
      "0\n",
      "2\n",
      "3\n",
      "4\n",
      "5\n"
     ]
    },
    {
     "name": "stderr",
     "output_type": "stream",
     "text": [
      "<>:2: SyntaxWarning: \"is\" with 'int' literal. Did you mean \"==\"?\n",
      "<>:2: SyntaxWarning: \"is\" with 'int' literal. Did you mean \"==\"?\n",
      "C:\\Users\\ajuth\\AppData\\Local\\Temp\\ipykernel_5168\\1929958793.py:2: SyntaxWarning: \"is\" with 'int' literal. Did you mean \"==\"?\n",
      "  if (x is 1):\n"
     ]
    }
   ],
   "execution_count": 35
  },
  {
   "cell_type": "code",
   "metadata": {
    "ExecuteTime": {
     "end_time": "2024-11-17T17:44:42.599454Z",
     "start_time": "2024-11-17T17:44:42.591351Z"
    }
   },
   "source": [
    "x = 0\n",
    "while (x < 10):\n",
    "    print(x)\n",
    "    x += 1"
   ],
   "outputs": [
    {
     "name": "stdout",
     "output_type": "stream",
     "text": [
      "0\n",
      "1\n",
      "2\n",
      "3\n",
      "4\n",
      "5\n",
      "6\n",
      "7\n",
      "8\n",
      "9\n"
     ]
    }
   ],
   "execution_count": 36
  },
  {
   "cell_type": "markdown",
   "metadata": {},
   "source": [
    "## Activity"
   ]
  },
  {
   "cell_type": "markdown",
   "metadata": {},
   "source": [
    "Write some code that creates a list of integers, loops through each element of the list, and only prints out even numbers!"
   ]
  },
  {
   "cell_type": "code",
   "metadata": {
    "ExecuteTime": {
     "end_time": "2024-11-17T17:44:42.700852Z",
     "start_time": "2024-11-17T17:44:42.693027Z"
    }
   },
   "source": [
    "integer_list = [1, 2, 3, 4, 5, 6, 7]\n",
    "print(integer_list)\n",
    "\n",
    "for number in integer_list:\n",
    "    if number % 2 == 0:\n",
    "        print(number)"
   ],
   "outputs": [
    {
     "name": "stdout",
     "output_type": "stream",
     "text": [
      "[1, 2, 3, 4, 5, 6, 7]\n",
      "2\n",
      "4\n",
      "6\n"
     ]
    }
   ],
   "execution_count": 37
  },
  {
   "metadata": {},
   "cell_type": "code",
   "outputs": [],
   "execution_count": null,
   "source": ""
  },
  {
   "metadata": {
    "ExecuteTime": {
     "end_time": "2024-11-17T18:10:31.065062Z",
     "start_time": "2024-11-17T18:10:31.059549Z"
    }
   },
   "cell_type": "code",
   "source": [
    "array = [1, 2, 3, 4, 5, 6, 7, 8, 9]\n",
    "for number in array:\n",
    "    print(number)"
   ],
   "outputs": [
    {
     "name": "stdout",
     "output_type": "stream",
     "text": [
      "1\n",
      "2\n",
      "3\n",
      "4\n",
      "5\n",
      "6\n",
      "7\n",
      "8\n",
      "9\n"
     ]
    }
   ],
   "execution_count": 38
  },
  {
   "metadata": {
    "ExecuteTime": {
     "end_time": "2024-11-17T18:14:06.789614Z",
     "start_time": "2024-11-17T18:14:06.747555Z"
    }
   },
   "cell_type": "code",
   "source": [
    "import numpy as np\n",
    "\n",
    "# Create a 3x3 array with values from 1 to 9\n",
    "array = np.arange(1, 10).reshape(3, 3)\n",
    "for i, row in enumerate(array):\n",
    "    print(f\"Row {i+1}: {row}\")\n",
    "    for val in row:\n",
    "        print(val)\n",
    "\n",
    "# Unit tests\n",
    "import unittest\n",
    "\n",
    "class TestArrayOperations(unittest.TestCase):\n",
    "    def setUp(self):\n",
    "        self.array = np.arange(1, 10).reshape(3, 3)\n",
    "\n",
    "    def test_array_shape(self):\n",
    "        self.assertEqual(self.array.shape, (3, 3))\n",
    "\n",
    "    def test_array_values(self):\n",
    "        expected_values = np.arange(1, 10).reshape(3, 3)\n",
    "        np.testing.assert_array_equal(self.array, expected_values)\n",
    "\n",
    "if __name__ == '__main__':\n",
    "    unittest.main(argv=[''], exit=False)"
   ],
   "outputs": [
    {
     "name": "stderr",
     "output_type": "stream",
     "text": [
      "..\n",
      "----------------------------------------------------------------------\n",
      "Ran 2 tests in 0.018s\n",
      "\n",
      "OK\n"
     ]
    },
    {
     "name": "stdout",
     "output_type": "stream",
     "text": [
      "Row 1: [1 2 3]\n",
      "1\n",
      "2\n",
      "3\n",
      "Row 2: [4 5 6]\n",
      "4\n",
      "5\n",
      "6\n",
      "Row 3: [7 8 9]\n",
      "7\n",
      "8\n",
      "9\n"
     ]
    }
   ],
   "execution_count": 39
  }
 ],
 "metadata": {
  "kernelspec": {
   "display_name": "Python 3 (ipykernel)",
   "language": "python",
   "name": "python3"
  },
  "language_info": {
   "codemirror_mode": {
    "name": "ipython",
    "version": 3
   },
   "file_extension": ".py",
   "mimetype": "text/x-python",
   "name": "python",
   "nbconvert_exporter": "python",
   "pygments_lexer": "ipython3",
   "version": "3.12.4"
  }
 },
 "nbformat": 4,
 "nbformat_minor": 4
}
